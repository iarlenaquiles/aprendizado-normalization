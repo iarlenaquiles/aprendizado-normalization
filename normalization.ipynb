{
 "cells": [
  {
   "cell_type": "code",
   "execution_count": 1,
   "metadata": {},
   "outputs": [],
   "source": [
    "import numpy as np"
   ]
  },
  {
   "cell_type": "code",
   "execution_count": 27,
   "metadata": {},
   "outputs": [],
   "source": [
    "np.random.seed(0)"
   ]
  },
  {
   "cell_type": "code",
   "execution_count": 28,
   "metadata": {},
   "outputs": [],
   "source": [
    "x = np.random.rand(20)"
   ]
  },
  {
   "cell_type": "code",
   "execution_count": 29,
   "metadata": {},
   "outputs": [],
   "source": [
    "x = (x * 100).round(2)"
   ]
  },
  {
   "cell_type": "code",
   "execution_count": 30,
   "metadata": {},
   "outputs": [],
   "source": [
    "x = np.resize(x, (20, 1))"
   ]
  },
  {
   "cell_type": "code",
   "execution_count": 31,
   "metadata": {},
   "outputs": [
    {
     "data": {
      "text/plain": [
       "array([[54.88],\n",
       "       [71.52],\n",
       "       [60.28],\n",
       "       [54.49],\n",
       "       [42.37],\n",
       "       [64.59],\n",
       "       [43.76],\n",
       "       [89.18],\n",
       "       [96.37],\n",
       "       [38.34],\n",
       "       [79.17],\n",
       "       [52.89],\n",
       "       [56.8 ],\n",
       "       [92.56],\n",
       "       [ 7.1 ],\n",
       "       [ 8.71],\n",
       "       [ 2.02],\n",
       "       [83.26],\n",
       "       [77.82],\n",
       "       [87.  ]])"
      ]
     },
     "execution_count": 31,
     "metadata": {},
     "output_type": "execute_result"
    }
   ],
   "source": [
    "x"
   ]
  },
  {
   "cell_type": "code",
   "execution_count": 25,
   "metadata": {},
   "outputs": [],
   "source": [
    "def normalize(x):\n",
    "    X_norm = np.copy(x)\n",
    "    n_cols = x.shape[1]\n",
    "    for i in range(n_cols):\n",
    "        X_norm[:, i] = (x[:, i] - np.min(x[:, i])) / (np.max(x[:, i]) - np.min(x[:,i]))\n",
    "    return X_norm"
   ]
  },
  {
   "cell_type": "code",
   "execution_count": 32,
   "metadata": {},
   "outputs": [
    {
     "data": {
      "text/plain": [
       "array([[0.56025437],\n",
       "       [0.73661897],\n",
       "       [0.61748808],\n",
       "       [0.55612083],\n",
       "       [0.42766296],\n",
       "       [0.66316905],\n",
       "       [0.44239534],\n",
       "       [0.92379438],\n",
       "       [1.        ],\n",
       "       [0.38494966],\n",
       "       [0.81770005],\n",
       "       [0.53916269],\n",
       "       [0.58060413],\n",
       "       [0.95961844],\n",
       "       [0.05384208],\n",
       "       [0.0709062 ],\n",
       "       [0.        ],\n",
       "       [0.86104928],\n",
       "       [0.80339163],\n",
       "       [0.90068892]])"
      ]
     },
     "execution_count": 32,
     "metadata": {},
     "output_type": "execute_result"
    }
   ],
   "source": [
    "normalize(x)"
   ]
  },
  {
   "cell_type": "code",
   "execution_count": null,
   "metadata": {},
   "outputs": [],
   "source": []
  }
 ],
 "metadata": {
  "kernelspec": {
   "display_name": "Python 3",
   "language": "python",
   "name": "python3"
  },
  "language_info": {
   "codemirror_mode": {
    "name": "ipython",
    "version": 3
   },
   "file_extension": ".py",
   "mimetype": "text/x-python",
   "name": "python",
   "nbconvert_exporter": "python",
   "pygments_lexer": "ipython3",
   "version": "3.6.4"
  }
 },
 "nbformat": 4,
 "nbformat_minor": 2
}
